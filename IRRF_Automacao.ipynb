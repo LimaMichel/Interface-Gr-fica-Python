{
 "cells": [
  {
   "cell_type": "code",
   "execution_count": 1,
   "id": "7c5e6a53",
   "metadata": {},
   "outputs": [
    {
     "ename": "NameError",
     "evalue": "name 'Tk' is not defined",
     "output_type": "error",
     "traceback": [
      "\u001b[1;31m---------------------------------------------------------------------------\u001b[0m",
      "\u001b[1;31mNameError\u001b[0m                                 Traceback (most recent call last)",
      "Input \u001b[1;32mIn [1]\u001b[0m, in \u001b[0;36m<cell line: 38>\u001b[1;34m()\u001b[0m\n\u001b[0;32m     31\u001b[0m     texto_resposta[\u001b[38;5;124m'\u001b[39m\u001b[38;5;124mtext\u001b[39m\u001b[38;5;124m'\u001b[39m] \u001b[38;5;241m=\u001b[39m \u001b[38;5;124mf\u001b[39m\u001b[38;5;124m'''\u001b[39m\n\u001b[0;32m     32\u001b[0m \u001b[38;5;124m    Salario Bruto: \u001b[39m\u001b[38;5;132;01m{\u001b[39;00msalario\u001b[38;5;132;01m}\u001b[39;00m\n\u001b[0;32m     33\u001b[0m \u001b[38;5;124m    Desconto IRRF 2022: \u001b[39m\u001b[38;5;132;01m{\u001b[39;00mdesconto\u001b[38;5;132;01m}\u001b[39;00m\n\u001b[0;32m     34\u001b[0m \u001b[38;5;124m    Salarío Líquido: \u001b[39m\u001b[38;5;132;01m{\u001b[39;00m\u001b[38;5;28mfloat\u001b[39m(salario) \u001b[38;5;241m-\u001b[39m desconto\u001b[38;5;132;01m}\u001b[39;00m\n\u001b[0;32m     35\u001b[0m \u001b[38;5;124m    \u001b[39m\u001b[38;5;124m'''\u001b[39m\n\u001b[0;32m     37\u001b[0m \u001b[38;5;66;03m#Instancia o frame\u001b[39;00m\n\u001b[1;32m---> 38\u001b[0m janela \u001b[38;5;241m=\u001b[39m \u001b[43mTk\u001b[49m()\n\u001b[0;32m     39\u001b[0m \u001b[38;5;66;03m#Tamanho do Frame\u001b[39;00m\n\u001b[0;32m     40\u001b[0m janela\u001b[38;5;241m.\u001b[39mgeometry(\u001b[38;5;124m'\u001b[39m\u001b[38;5;124m450x350\u001b[39m\u001b[38;5;124m'\u001b[39m)\n",
      "\u001b[1;31mNameError\u001b[0m: name 'Tk' is not defined"
     ]
    }
   ],
   "source": [
    "import requests\n",
    "from tkinter import *\n",
    "\n",
    "def calcula_irrf():\n",
    "    \n",
    "    salario = 0\n",
    "    desconto = 0\n",
    "    \n",
    "    salario = entry1.get()\n",
    "    \n",
    "    if salario == \"\":\n",
    "        salario = 0\n",
    "    else: salario = salario\n",
    "    \n",
    "    if float(salario) <= 1903.98:\n",
    "        desconto = 0\n",
    "        \n",
    "    elif float(salario) >= 1903.99 and float(salario) <= 2826.65:\n",
    "        desconto = 142.80\n",
    "        \n",
    "    elif float(salario) >= 2826.66 and float(salario) <= 3751.05:\n",
    "        desconto = 354.80\n",
    "        \n",
    "    elif float(salario) >= 3751.06 and float(salario) <= 4664.68:\n",
    "        desconto = 636.13\n",
    "        \n",
    "    else:\n",
    "        desconto = 869.36  \n",
    "    \n",
    "    texto_resposta['text'] = f'''\n",
    "    Salario Bruto: {salario}\n",
    "    Desconto IRRF 2022: {desconto}\n",
    "    Salarío Líquido: {float(salario) - desconto}\n",
    "    '''\n",
    "\n",
    "#Instancia o frame\n",
    "janela = Tk()\n",
    "#Tamanho do Frame\n",
    "janela.geometry('450x350')\n",
    "\n",
    "\n",
    "#titulo\n",
    "janela.title(\"Calculo desconto IRRF\")\n",
    "\n",
    "#Botao calcular + posição\n",
    "texto = Label(janela, text=\"Digite seu salário base: \")\n",
    "texto.grid(column=0, row=0, padx=10, pady=10)\n",
    "\n",
    "\n",
    "botao = Button(janela, text=\"Calcular IRRF 2022\", command=calcula_irrf)\n",
    "botao.grid(column=1, row=1, padx=10, pady=10)\n",
    "\n",
    "entry1 = Entry (janela)\n",
    "entry1.grid(column=1, row=0, padx=10, pady=10)\n",
    "\n",
    "texto_resposta = Label(janela, text=\"\")\n",
    "texto_resposta.grid(column=1, row=3, padx=10, pady=10)\n",
    "\n",
    "\n",
    "janela.mainloop()"
   ]
  },
  {
   "cell_type": "code",
   "execution_count": null,
   "id": "06553f22",
   "metadata": {},
   "outputs": [],
   "source": []
  }
 ],
 "metadata": {
  "kernelspec": {
   "display_name": "Python 3 (ipykernel)",
   "language": "python",
   "name": "python3"
  },
  "language_info": {
   "codemirror_mode": {
    "name": "ipython",
    "version": 3
   },
   "file_extension": ".py",
   "mimetype": "text/x-python",
   "name": "python",
   "nbconvert_exporter": "python",
   "pygments_lexer": "ipython3",
   "version": "3.9.12"
  }
 },
 "nbformat": 4,
 "nbformat_minor": 5
}
